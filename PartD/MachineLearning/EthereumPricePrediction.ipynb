{
  "nbformat": 4,
  "nbformat_minor": 0,
  "metadata": {
    "colab": {
      "name": "EthereumPricePrediction.ipynb",
      "provenance": [],
      "collapsed_sections": []
    },
    "kernelspec": {
      "display_name": "Python 3",
      "name": "python3"
    }
  },
  "cells": [
    {
      "cell_type": "code",
      "metadata": {
        "colab": {
          "base_uri": "https://localhost:8080/",
          "height": 354
        },
        "id": "1sEjoILU4E2j",
        "outputId": "91159315-330d-4191-e4e7-f55797aa2205"
      },
      "source": [
        "pip install statsmodels --upgrade"
      ],
      "execution_count": null,
      "outputs": [
        {
          "output_type": "stream",
          "text": [
            "Collecting statsmodels\n",
            "\u001b[?25l  Downloading https://files.pythonhosted.org/packages/be/4c/9e2435ca6645d6bafa2b51bb11f0a365b28934a2ffe9d6e339d67130926d/statsmodels-0.12.1-cp36-cp36m-manylinux1_x86_64.whl (9.5MB)\n",
            "\u001b[K     |████████████████████████████████| 9.5MB 5.4MB/s \n",
            "\u001b[?25hRequirement already satisfied, skipping upgrade: scipy>=1.1 in /usr/local/lib/python3.6/dist-packages (from statsmodels) (1.4.1)\n",
            "Requirement already satisfied, skipping upgrade: patsy>=0.5 in /usr/local/lib/python3.6/dist-packages (from statsmodels) (0.5.1)\n",
            "Requirement already satisfied, skipping upgrade: pandas>=0.21 in /usr/local/lib/python3.6/dist-packages (from statsmodels) (1.1.5)\n",
            "Requirement already satisfied, skipping upgrade: numpy>=1.15 in /usr/local/lib/python3.6/dist-packages (from statsmodels) (1.18.5)\n",
            "Requirement already satisfied, skipping upgrade: six in /usr/local/lib/python3.6/dist-packages (from patsy>=0.5->statsmodels) (1.15.0)\n",
            "Requirement already satisfied, skipping upgrade: pytz>=2017.2 in /usr/local/lib/python3.6/dist-packages (from pandas>=0.21->statsmodels) (2018.9)\n",
            "Requirement already satisfied, skipping upgrade: python-dateutil>=2.7.3 in /usr/local/lib/python3.6/dist-packages (from pandas>=0.21->statsmodels) (2.8.1)\n",
            "Installing collected packages: statsmodels\n",
            "  Found existing installation: statsmodels 0.10.2\n",
            "    Uninstalling statsmodels-0.10.2:\n",
            "      Successfully uninstalled statsmodels-0.10.2\n",
            "Successfully installed statsmodels-0.12.1\n"
          ],
          "name": "stdout"
        },
        {
          "output_type": "display_data",
          "data": {
            "application/vnd.colab-display-data+json": {
              "pip_warning": {
                "packages": [
                  "statsmodels"
                ]
              }
            }
          },
          "metadata": {
            "tags": []
          }
        }
      ]
    },
    {
      "cell_type": "code",
      "metadata": {
        "colab": {
          "base_uri": "https://localhost:8080/"
        },
        "id": "L9V1EmLH8OZI",
        "outputId": "76180082-a91f-49c8-a970-4d83ba029ded"
      },
      "source": [
        "import pandas as pd \r\n",
        "import numpy as np\r\n",
        "import matplotlib.pyplot as plt\r\n",
        "from statsmodels.tsa.ar_model import AutoReg\r\n",
        "from statsmodels.tsa.arima.model import ARIMA\r\n",
        "from random import random\r\n",
        "import seaborn as sns\r\n",
        "\r\n",
        "data = pd.read_csv('ETH_USD_2015-08-09_2020-12-07-CoinDesk.csv')\r\n",
        "\r\n",
        "start=0\r\n",
        "end=900\r\n",
        "predictions=[]\r\n",
        "true_value=[]\r\n",
        "avg_errors=[]\r\n",
        "MSEs=[]\r\n",
        "dates=[]\r\n",
        "\r\n",
        "while len(data) - end >7:\r\n",
        "    errors=[]\r\n",
        "    summ=0\r\n",
        "    training_data = data['Closing Price (USD)'][start:end]\r\n",
        "    model = ARIMA(training_data,order=(2,0,1))\r\n",
        "    model_fit=model.fit()\r\n",
        "    test=model_fit.predict(len(training_data),len(training_data) + 6)\r\n",
        "    temp = end\r\n",
        "    for entry in test:\r\n",
        "      dates.append(data['Date'][end])\r\n",
        "      true_price=data['Closing Price (USD)'][end]\r\n",
        "      true_value.append(true_price)\r\n",
        "      predictions.append(entry)\r\n",
        "      abs_Difference=abs(true_price-entry)\r\n",
        "      error =(abs_Difference/true_price)*100\r\n",
        "      errors.append(error)\r\n",
        "      difference_sq=abs(true_price-entry)**2\r\n",
        "      summ=summ+difference_sq\r\n",
        "      temp+=1\r\n",
        "    avg_errors.append(sum(errors)/len(errors))\r\n",
        "    MSE=summ/len(test)\r\n",
        "    MSEs.append(MSE)\r\n",
        "    start+=10\r\n",
        "    end+=10"
      ],
      "execution_count": null,
      "outputs": [
        {
          "output_type": "stream",
          "text": [
            "/usr/local/lib/python3.6/dist-packages/statsmodels/tsa/statespace/sarimax.py:966: UserWarning: Non-stationary starting autoregressive parameters found. Using zeros as starting parameters.\n",
            "  warn('Non-stationary starting autoregressive parameters'\n",
            "/usr/local/lib/python3.6/dist-packages/statsmodels/tsa/statespace/sarimax.py:978: UserWarning: Non-invertible starting MA parameters found. Using zeros as starting parameters.\n",
            "  warn('Non-invertible starting MA parameters found.'\n"
          ],
          "name": "stderr"
        }
      ]
    },
    {
      "cell_type": "code",
      "metadata": {
        "colab": {
          "base_uri": "https://localhost:8080/",
          "height": 299
        },
        "id": "CAafpCSRhr3Z",
        "outputId": "1d548a97-31ed-46d3-a140-6796559527b4"
      },
      "source": [
        "plt.plot(avg_errors)\r\n",
        "plt.ylabel('average errors')\r\n",
        "plt.title('average value of errors for each 7 day window')"
      ],
      "execution_count": null,
      "outputs": [
        {
          "output_type": "execute_result",
          "data": {
            "text/plain": [
              "Text(0.5, 1.0, 'average valur of errors for each 10 day window')"
            ]
          },
          "metadata": {
            "tags": []
          },
          "execution_count": 8
        },
        {
          "output_type": "display_data",
          "data": {
            "image/png": "[encoded data removed]",
            "text/plain": [
              "<Figure size 432x288 with 1 Axes>"
            ]
          },
          "metadata": {
            "tags": []
          }
        }
      ]
    },
    {
      "cell_type": "code",
      "metadata": {
        "id": "SsNE62jfh9Zd",
        "colab": {
          "base_uri": "https://localhost:8080/",
          "height": 415
        },
        "outputId": "4da057ec-ba79-4a55-e089-4e1e78dd3f5e"
      },
      "source": [
        "compare_data= pd.DataFrame(columns=['Date', 'True Value', 'Predicted Value'])\r\n",
        "compare_data['Date'] = dates\r\n",
        "compare_data['True Value']=true_value\r\n",
        "compare_data['Predicted Value']=predictions\r\n",
        "compare_data"
      ],
      "execution_count": null,
      "outputs": [
        {
          "output_type": "execute_result",
          "data": {
            "text/html": [
              "<div>\n",
              "<style scoped>\n",
              "    .dataframe tbody tr th:only-of-type {\n",
              "        vertical-align: middle;\n",
              "    }\n",
              "\n",
              "    .dataframe tbody tr th {\n",
              "        vertical-align: top;\n",
              "    }\n",
              "\n",
              "    .dataframe thead th {\n",
              "        text-align: right;\n",
              "    }\n",
              "</style>\n",
              "<table border=\"1\" class=\"dataframe\">\n",
              "  <thead>\n",
              "    <tr style=\"text-align: right;\">\n",
              "      <th></th>\n",
              "      <th>Date</th>\n",
              "      <th>True Value</th>\n",
              "      <th>Predicted Value</th>\n",
              "    </tr>\n",
              "  </thead>\n",
              "  <tbody>\n",
              "    <tr>\n",
              "      <th>0</th>\n",
              "      <td>25/01/2018</td>\n",
              "      <td>1088.430000</td>\n",
              "      <td>949.242307</td>\n",
              "    </tr>\n",
              "    <tr>\n",
              "      <th>1</th>\n",
              "      <td>25/01/2018</td>\n",
              "      <td>1088.430000</td>\n",
              "      <td>968.994114</td>\n",
              "    </tr>\n",
              "    <tr>\n",
              "      <th>2</th>\n",
              "      <td>25/01/2018</td>\n",
              "      <td>1088.430000</td>\n",
              "      <td>947.512114</td>\n",
              "    </tr>\n",
              "    <tr>\n",
              "      <th>3</th>\n",
              "      <td>25/01/2018</td>\n",
              "      <td>1088.430000</td>\n",
              "      <td>967.124594</td>\n",
              "    </tr>\n",
              "    <tr>\n",
              "      <th>4</th>\n",
              "      <td>25/01/2018</td>\n",
              "      <td>1088.430000</td>\n",
              "      <td>945.785313</td>\n",
              "    </tr>\n",
              "    <tr>\n",
              "      <th>...</th>\n",
              "      <td>...</td>\n",
              "      <td>...</td>\n",
              "      <td>...</td>\n",
              "    </tr>\n",
              "    <tr>\n",
              "      <th>995</th>\n",
              "      <td>20/11/2020</td>\n",
              "      <td>507.630342</td>\n",
              "      <td>471.721501</td>\n",
              "    </tr>\n",
              "    <tr>\n",
              "      <th>996</th>\n",
              "      <td>20/11/2020</td>\n",
              "      <td>507.630342</td>\n",
              "      <td>471.413551</td>\n",
              "    </tr>\n",
              "    <tr>\n",
              "      <th>997</th>\n",
              "      <td>20/11/2020</td>\n",
              "      <td>507.630342</td>\n",
              "      <td>471.105517</td>\n",
              "    </tr>\n",
              "    <tr>\n",
              "      <th>998</th>\n",
              "      <td>20/11/2020</td>\n",
              "      <td>507.630342</td>\n",
              "      <td>470.798203</td>\n",
              "    </tr>\n",
              "    <tr>\n",
              "      <th>999</th>\n",
              "      <td>20/11/2020</td>\n",
              "      <td>507.630342</td>\n",
              "      <td>470.491154</td>\n",
              "    </tr>\n",
              "  </tbody>\n",
              "</table>\n",
              "<p>1000 rows × 3 columns</p>\n",
              "</div>"
            ],
            "text/plain": [
              "           Date   True Value  Predicted Value\n",
              "0    25/01/2018  1088.430000       949.242307\n",
              "1    25/01/2018  1088.430000       968.994114\n",
              "2    25/01/2018  1088.430000       947.512114\n",
              "3    25/01/2018  1088.430000       967.124594\n",
              "4    25/01/2018  1088.430000       945.785313\n",
              "..          ...          ...              ...\n",
              "995  20/11/2020   507.630342       471.721501\n",
              "996  20/11/2020   507.630342       471.413551\n",
              "997  20/11/2020   507.630342       471.105517\n",
              "998  20/11/2020   507.630342       470.798203\n",
              "999  20/11/2020   507.630342       470.491154\n",
              "\n",
              "[1000 rows x 3 columns]"
            ]
          },
          "metadata": {
            "tags": []
          },
          "execution_count": 13
        }
      ]
    },
    {
      "cell_type": "code",
      "metadata": {
        "colab": {
          "base_uri": "https://localhost:8080/",
          "height": 299
        },
        "id": "eYAbOE6gVERD",
        "outputId": "24a8c8ca-ecd6-470a-e982-240bc6fdbebe"
      },
      "source": [
        "plt.plot(compare_data['True Value'] )\r\n",
        "plt.plot(compare_data['Predicted Value'] )\r\n",
        "plt.ylabel('Ethereum Value')\r\n",
        "plt.title('Predicted and True Values')"
      ],
      "execution_count": null,
      "outputs": [
        {
          "output_type": "execute_result",
          "data": {
            "text/plain": [
              "Text(0.5, 1.0, 'True Values')"
            ]
          },
          "metadata": {
            "tags": []
          },
          "execution_count": 12
        },
        {
          "output_type": "display_data",
          "data": {
            "image/png": "[encoded data removed]",
            "text/plain": [
              "<Figure size 432x288 with 1 Axes>"
            ]
          },
          "metadata": {
            "tags": [],
            "needs_background": "light"
          }
        }
      ]
    }
  ]
}